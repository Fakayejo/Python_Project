{
 "cells": [
  {
   "cell_type": "markdown",
   "id": "bb54478d",
   "metadata": {},
   "source": [
    "Project 1: Library System\n",
    "•\tCreate a dictionary of 5 books with their availability (True/False).\n",
    "•\tAsk the user to enter a book name.\n",
    "•\tIf it is available, print \"You borrowed <book>\" and update it to False.\n",
    "•\tIf not available, print \"Sorry, that book is not available.\".\n"
   ]
  },
  {
   "cell_type": "code",
   "execution_count": null,
   "id": "777080d1",
   "metadata": {},
   "outputs": [
    {
     "name": "stdout",
     "output_type": "stream",
     "text": [
      "Chemistry\n",
      "You borrowed Chemistry\n"
     ]
    }
   ],
   "source": [
    "#Project 1 Solution\n",
    "books = {\n",
    "    \"Chemistry\":True,\n",
    "    \"Physics\":True,\n",
    "    \"Mathematics\":False,\n",
    "    \"French\":True,\n",
    "    \"Geography\":False\n",
    "}\n",
    "User = input(\"Please enter a book: \")\n",
    "print(User)\n",
    "if books[User] == True:\n",
    "    print(f\"You borrowed {User}\") \n",
    "else:\n",
    "    print(\"Sorry, Requested book isnt available\")\n"
   ]
  },
  {
   "cell_type": "markdown",
   "id": "e5ef6cc3",
   "metadata": {},
   "source": [
    "Project 2: Restaurant Order System\n",
    "•\tCreate a menu dictionary with food items as keys and prices as values.\n",
    "•\tAsk the user to order 3 items.\n",
    "•\tCalculate the total bill.\n",
    "•\tIf the total is above 200, give a 10% discount.\n",
    "•\tPrint the final bill using string formatting.\n"
   ]
  },
  {
   "cell_type": "code",
   "execution_count": null,
   "id": "885bac70",
   "metadata": {},
   "outputs": [
    {
     "name": "stdout",
     "output_type": "stream",
     "text": [
      "You order for Rice, Spag, Beans,There's a 10% Discount, Total Amount is: 1080.0\n"
     ]
    }
   ],
   "source": [
    "#Project 2 Solution\n",
    "Restuarant = {\n",
    "    \"Rice\":500,\n",
    "    \"Spag\":500,\n",
    "    \"Beans\":200,\n",
    "    \"Egg\":400,\n",
    "    \"Plantain\":100\n",
    "}\n",
    "User = input(\"Enter First meal you want: \")\n",
    "User1 = input(\"Enter First meal you want: \")\n",
    "User2 = input(\"Enter First meal you want: \")\n",
    "if User in Restuarant and  User1 in Restuarant and User2 in Restuarant:\n",
    "    Res = Restuarant[User] + Restuarant[User1] + Restuarant[User2]\n",
    "    Total = Res - (Res * 0.1)\n",
    "    print(f\"You order for {User}, {User1}, {User2},There's a 10% Discount, Total Amount is: {Total}\")\n",
    "else:\n",
    "    print(\"Kindly choose from the Menu List\")\n"
   ]
  },
  {
   "cell_type": "markdown",
   "id": "907cc202",
   "metadata": {},
   "source": [
    "Project 3: ATM Simulator\n",
    "•\tStart with a balance of 1000.\n",
    "•\tAsk the user if they want to check balance, deposit, or withdraw.\n",
    "•\tUpdate the balance accordingly.\n",
    "•\tIf withdrawal amount is more than balance, print \"Insufficient funds\".\n",
    "•\tOtherwise, print the new balance.\n"
   ]
  },
  {
   "cell_type": "code",
   "execution_count": null,
   "id": "f119e5e9",
   "metadata": {},
   "outputs": [
    {
     "name": "stdout",
     "output_type": "stream",
     "text": [
      "Your Available Balance is 1000\n",
      "Enter valid option\n"
     ]
    }
   ],
   "source": [
    "# Project 3 Solution\n",
    "Balance = 1000\n",
    "User = input(\"Enter option: \")\n",
    "if User == \"Balance\":\n",
    "    print(f\"Your Available Balance is {Balance}\")\n",
    "if User == \"Withdraw\":\n",
    "     User1 = int(input(\"Enter Amount to Withdraw: \"))\n",
    "     if User1 > Balance:\n",
    "      print(\"Insufficent Fund\")\n",
    "if User == \"Deposit\":\n",
    "          User2 = int(input(\"Enter Amount to deposit: \"))\n",
    "          Total = Balance + User2\n",
    "          print(f\"Your total available amount is {Total}\")\n",
    "else:\n",
    " print(\"Enter valid option\")\n"
   ]
  },
  {
   "cell_type": "markdown",
   "id": "1848556e",
   "metadata": {},
   "source": [
    "Project 4: Student Grading System\n",
    "•\tCreate a dictionary with student names as keys and a list of 3 subject scores as values.\n",
    "•\tCalculate each student’s average.\n",
    "•\tPrint:\n",
    "\"John | Average: 72 | Grade: B\".\n",
    "•\tUse grading rules:\n",
    "o\tA = 70+, B = 60–69, C = 50–59, F = below 50.\n"
   ]
  },
  {
   "cell_type": "code",
   "execution_count": null,
   "id": "ec0e8d13",
   "metadata": {},
   "outputs": [
    {
     "name": "stdout",
     "output_type": "stream",
     "text": [
      "B\n",
      "Dami 69.33333333333333\n"
     ]
    }
   ],
   "source": [
    "# Project 4 Solution\n",
    "Student = {\n",
    "    \"Kunle\":[67,56,99],\n",
    "    \"Bidemi\":[76,48,77],\n",
    "    \"Dami\":[56,88,64]\n",
    "}\n",
    "Name = input(\"Enter a Student Name: \")\n",
    "if Name in Student:\n",
    "    Avg = sum(Student[Name])/len(Student[Name])\n",
    "    if Avg >= 50 and Avg <= 100:\n",
    "        if Avg >= 70:\n",
    "            print(\"A\")\n",
    "        elif Avg >= 60:\n",
    "             print(\"B\")\n",
    "        elif Avg >= 50:\n",
    "            print(\"C\")\n",
    "        else:\n",
    "             print(\"F\")\n",
    "print(Name,Avg)"
   ]
  },
  {
   "cell_type": "markdown",
   "id": "7930e4b0",
   "metadata": {},
   "source": [
    "Project 5: Movie Ticket Booking\n",
    "•\tCreate a dictionary of movies with their ticket prices.\n",
    "•\tAsk the user to pick a movie and number of tickets.\n",
    "•\tMultiply price × tickets to get total cost.\n",
    "•\tIf buying more than 3 tickets, apply a 20% discount.\n",
    "•\tPrint the final bill.\n"
   ]
  },
  {
   "cell_type": "code",
   "execution_count": 1,
   "id": "a2a86623",
   "metadata": {},
   "outputs": [
    {
     "name": "stdout",
     "output_type": "stream",
     "text": [
      "You select Spider man Movies and 4 Tickes, Amount Payable is 24000.0\n"
     ]
    }
   ],
   "source": [
    "# Project 5 Solution\n",
    "Movies = {\n",
    "    \"Spider man\":7500,\n",
    "    \"Jonny Walker\":7500,\n",
    "    \"Dawn\":6000,\n",
    "    \"Yoga\":5500,\n",
    "    \"Xmen\":7000\n",
    "}\n",
    "User = input(\"Please select a movie: \")\n",
    "Num = int(input(\"How many tickets do you want: \"))\n",
    "if Num >= 3:\n",
    "    if User in Movies:\n",
    "         Res = Movies[User] * Num\n",
    "         Total = Res - ( Res * 0.2)\n",
    "         print(f\"You select {User} Movies and {Num} Tickes, Amount Payable is {Total}\")\n",
    "else:\n",
    "    Total = Movies[User] * Num\n",
    "    print(f\"You select {User} Movies and {Num} Tickets, Amount Payable is {Total}\")\n"
   ]
  },
  {
   "cell_type": "markdown",
   "id": "d08798f6",
   "metadata": {},
   "source": [
    "Project 7: Quiz Game\n",
    "\n",
    "Create a dictionary with 5 questions and answers.\n",
    "\n",
    "Ask the user each question.\n",
    "\n",
    "For each correct answer, give 10 points.\n",
    "\n",
    "Print the final score.\n",
    "\n",
    "If the score is 40 or above, print \"Excellent!\", else \"Keep practicing.\"."
   ]
  },
  {
   "cell_type": "code",
   "execution_count": 15,
   "id": "52e515e1",
   "metadata": {},
   "outputs": [
    {
     "name": "stdout",
     "output_type": "stream",
     "text": [
      "Correct ✅\n",
      "Correct ✅\n",
      "Correct ✅\n",
      "Correct ✅\n",
      "Correct ✅\n",
      "Your Total score is 50\n",
      "Excellent 🎆\n"
     ]
    }
   ],
   "source": [
    "# Project 7 Solution\n",
    "points = 0\n",
    "Quizz = {\n",
    "    \"Nigeria gain independce what year\":\"1960\",\n",
    "    \"Who created WWW\":\"Tim\",\n",
    "    \"World fastest runner\":\"Bolt\",\n",
    "    \"Whats the fastest land animal\":\"Cheetah\",\n",
    "    \"Best tutor\":\"Oluwabunmi\"\n",
    "}\n",
    "for question, answer in Quizz.items():\n",
    "    user = input(question).strip()\n",
    "    if user == answer:\n",
    "     points +=10\n",
    "     print(f\"Correct ✅\")\n",
    "    else:\n",
    "        print(f\"Wrong ❌ (Correct answer: {answer})\")\n",
    "print(f\"Your Total score is {points}\")\n",
    "if points >= 40:\n",
    "   print(f\"Excellent 🎆\")\n",
    "else:\n",
    "   print(f\"You scored below pass mark, Keep practising\")\n",
    "\n"
   ]
  }
 ],
 "metadata": {
  "kernelspec": {
   "display_name": "Python 3",
   "language": "python",
   "name": "python3"
  },
  "language_info": {
   "codemirror_mode": {
    "name": "ipython",
    "version": 3
   },
   "file_extension": ".py",
   "mimetype": "text/x-python",
   "name": "python",
   "nbconvert_exporter": "python",
   "pygments_lexer": "ipython3",
   "version": "3.13.7"
  }
 },
 "nbformat": 4,
 "nbformat_minor": 5
}
