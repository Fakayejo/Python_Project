{
 "cells": [
  {
   "cell_type": "code",
   "execution_count": 89,
   "id": "777080d1",
   "metadata": {},
   "outputs": [
    {
     "name": "stdout",
     "output_type": "stream",
     "text": [
      "Chemistry\n",
      "You borrowed Chemistry\n"
     ]
    }
   ],
   "source": [
    "#Project 1\n",
    "books = {\n",
    "    \"Chemistry\":True,\n",
    "    \"Physics\":True,\n",
    "    \"Mathematics\":False,\n",
    "    \"French\":True,\n",
    "    \"Geography\":False\n",
    "}\n",
    "User = input(\"Please enter a book: \")\n",
    "print(User)\n",
    "if books[User] == True:\n",
    "    print(f\"You borrowed {User}\") \n",
    "else:\n",
    "    print(\"Sorry, Requested book isnt available\")\n"
   ]
  },
  {
   "cell_type": "code",
   "execution_count": 90,
   "id": "885bac70",
   "metadata": {},
   "outputs": [
    {
     "name": "stdout",
     "output_type": "stream",
     "text": [
      "You order for Rice, Spag, Beans,There's a 10% Discount, Total Amount is: 1080.0\n"
     ]
    }
   ],
   "source": [
    "#Project 2\n",
    "Restuarant = {\n",
    "    \"Rice\":500,\n",
    "    \"Spag\":500,\n",
    "    \"Beans\":200,\n",
    "    \"Egg\":400,\n",
    "    \"Plantain\":100\n",
    "}\n",
    "User = input(\"Enter First meal you want: \")\n",
    "User1 = input(\"Enter First meal you want: \")\n",
    "User2 = input(\"Enter First meal you want: \")\n",
    "if User in Restuarant and  User1 in Restuarant and User2 in Restuarant:\n",
    "    Res = Restuarant[User] + Restuarant[User1] + Restuarant[User2]\n",
    "    Total = Res - (Res * 0.1)\n",
    "    print(f\"You order for {User}, {User1}, {User2},There's a 10% Discount, Total Amount is: {Total}\")\n",
    "else:\n",
    "    print(\"Kindly choose from the Menu List\")\n"
   ]
  },
  {
   "cell_type": "code",
   "execution_count": 87,
   "id": "f119e5e9",
   "metadata": {},
   "outputs": [
    {
     "name": "stdout",
     "output_type": "stream",
     "text": [
      "Your Available Balance is 1000\n",
      "Enter valid option\n"
     ]
    }
   ],
   "source": [
    "# Project 3\n",
    "Balance = 1000\n",
    "User = input(\"Enter option: \")\n",
    "if User == \"Balance\":\n",
    "    print(f\"Your Available Balance is {Balance}\")\n",
    "if User == \"Withdraw\":\n",
    "     User1 = int(input(\"Enter Amount to Withdraw: \"))\n",
    "     if User1 > Balance:\n",
    "      print(\"Insufficent Fund\")\n",
    "if User == \"Deposit\":\n",
    "          User2 = int(input(\"Enter Amount to deposit: \"))\n",
    "          Total = Balance + User2\n",
    "          print(f\"Your total available amount is {Total}\")\n",
    "else:\n",
    " print(\"Enter valid option\")\n"
   ]
  },
  {
   "cell_type": "code",
   "execution_count": 92,
   "id": "ec0e8d13",
   "metadata": {},
   "outputs": [
    {
     "name": "stdout",
     "output_type": "stream",
     "text": [
      "B\n",
      "Dami 69.33333333333333\n"
     ]
    }
   ],
   "source": [
    "# Project 4\n",
    "Student = {\n",
    "    \"Kunle\":[67,56,99],\n",
    "    \"Bidemi\":[76,48,77],\n",
    "    \"Dami\":[56,88,64]\n",
    "}\n",
    "Name = input(\"Enter a Student Name: \")\n",
    "if Name in Student:\n",
    "    Avg = sum(Student[Name])/len(Student[Name])\n",
    "    if Avg >= 50 and Avg <= 100:\n",
    "        if Avg >= 70:\n",
    "            print(\"A\")\n",
    "        elif Avg >= 60:\n",
    "             print(\"B\")\n",
    "        elif Avg >= 50:\n",
    "            print(\"C\")\n",
    "        else:\n",
    "             print(\"F\")\n",
    "print(Name,Avg)"
   ]
  },
  {
   "cell_type": "code",
   "execution_count": null,
   "id": "a2a86623",
   "metadata": {},
   "outputs": [
    {
     "name": "stdout",
     "output_type": "stream",
     "text": [
      "You select Spider man Movies and 4 Tickes, Amount Payable is 24000.0\n"
     ]
    }
   ],
   "source": [
    "# Project 5\n",
    "Movies = {\n",
    "    \"Spider man\":7500,\n",
    "    \"Jonny Walker\":7500,\n",
    "    \"Dawn\":6000,\n",
    "    \"Yoga\":5500,\n",
    "    \"Xmen\":7000\n",
    "}\n",
    "User = input(\"Please select a movie: \")\n",
    "Num = int(input(\"How many tickets do you want: \"))\n",
    "if Num >= 3:\n",
    "    if User in Movies:\n",
    "         Res = Movies[User] * Num\n",
    "         Total = Res - ( Res * 0.2)\n",
    "         print(f\"You select {User} Movies and {Num} Tickes, Amount Payable is {Total}\")\n",
    "else:\n",
    "    Total = Movies[User] * Num\n",
    "    print(f\"You select {User} Movies and {Num} Tickets, Amount Payable is {Total}\")\n"
   ]
  }
 ],
 "metadata": {
  "kernelspec": {
   "display_name": "web",
   "language": "python",
   "name": "python3"
  },
  "language_info": {
   "codemirror_mode": {
    "name": "ipython",
    "version": 3
   },
   "file_extension": ".py",
   "mimetype": "text/x-python",
   "name": "python",
   "nbconvert_exporter": "python",
   "pygments_lexer": "ipython3",
   "version": "3.13.7"
  }
 },
 "nbformat": 4,
 "nbformat_minor": 5
}
